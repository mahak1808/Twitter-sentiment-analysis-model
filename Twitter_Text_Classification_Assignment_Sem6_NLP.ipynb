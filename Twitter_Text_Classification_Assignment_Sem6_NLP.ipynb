{
 "cells": [
  {
   "cell_type": "markdown",
   "id": "73d76cc2",
   "metadata": {},
   "source": [
    "# Imported data and cleaned it"
   ]
  },
  {
   "cell_type": "code",
   "execution_count": 1,
   "id": "b1780c07",
   "metadata": {},
   "outputs": [],
   "source": [
    "import numpy as np\n",
    "import pandas as pd"
   ]
  },
  {
   "cell_type": "code",
   "execution_count": 2,
   "id": "0718083b",
   "metadata": {},
   "outputs": [],
   "source": [
    "data = pd.read_csv(\"/Users/mahakkaurchhabra/Downloads/twitter_sentiment/twitter_training.csv\",names = ['id','source','sentiment','tweet'])"
   ]
  },
  {
   "cell_type": "code",
   "execution_count": 3,
   "id": "3e5d089b",
   "metadata": {},
   "outputs": [
    {
     "data": {
      "text/html": [
       "<div>\n",
       "<style scoped>\n",
       "    .dataframe tbody tr th:only-of-type {\n",
       "        vertical-align: middle;\n",
       "    }\n",
       "\n",
       "    .dataframe tbody tr th {\n",
       "        vertical-align: top;\n",
       "    }\n",
       "\n",
       "    .dataframe thead th {\n",
       "        text-align: right;\n",
       "    }\n",
       "</style>\n",
       "<table border=\"1\" class=\"dataframe\">\n",
       "  <thead>\n",
       "    <tr style=\"text-align: right;\">\n",
       "      <th></th>\n",
       "      <th>id</th>\n",
       "      <th>source</th>\n",
       "      <th>sentiment</th>\n",
       "      <th>tweet</th>\n",
       "    </tr>\n",
       "  </thead>\n",
       "  <tbody>\n",
       "    <tr>\n",
       "      <th>0</th>\n",
       "      <td>2401</td>\n",
       "      <td>Borderlands</td>\n",
       "      <td>Positive</td>\n",
       "      <td>im getting on borderlands and i will murder yo...</td>\n",
       "    </tr>\n",
       "    <tr>\n",
       "      <th>1</th>\n",
       "      <td>2401</td>\n",
       "      <td>Borderlands</td>\n",
       "      <td>Positive</td>\n",
       "      <td>I am coming to the borders and I will kill you...</td>\n",
       "    </tr>\n",
       "    <tr>\n",
       "      <th>2</th>\n",
       "      <td>2401</td>\n",
       "      <td>Borderlands</td>\n",
       "      <td>Positive</td>\n",
       "      <td>im getting on borderlands and i will kill you ...</td>\n",
       "    </tr>\n",
       "    <tr>\n",
       "      <th>3</th>\n",
       "      <td>2401</td>\n",
       "      <td>Borderlands</td>\n",
       "      <td>Positive</td>\n",
       "      <td>im coming on borderlands and i will murder you...</td>\n",
       "    </tr>\n",
       "    <tr>\n",
       "      <th>4</th>\n",
       "      <td>2401</td>\n",
       "      <td>Borderlands</td>\n",
       "      <td>Positive</td>\n",
       "      <td>im getting on borderlands 2 and i will murder ...</td>\n",
       "    </tr>\n",
       "  </tbody>\n",
       "</table>\n",
       "</div>"
      ],
      "text/plain": [
       "     id       source sentiment  \\\n",
       "0  2401  Borderlands  Positive   \n",
       "1  2401  Borderlands  Positive   \n",
       "2  2401  Borderlands  Positive   \n",
       "3  2401  Borderlands  Positive   \n",
       "4  2401  Borderlands  Positive   \n",
       "\n",
       "                                               tweet  \n",
       "0  im getting on borderlands and i will murder yo...  \n",
       "1  I am coming to the borders and I will kill you...  \n",
       "2  im getting on borderlands and i will kill you ...  \n",
       "3  im coming on borderlands and i will murder you...  \n",
       "4  im getting on borderlands 2 and i will murder ...  "
      ]
     },
     "execution_count": 3,
     "metadata": {},
     "output_type": "execute_result"
    }
   ],
   "source": [
    "data.head()"
   ]
  },
  {
   "cell_type": "code",
   "execution_count": 4,
   "id": "e0568bfd",
   "metadata": {},
   "outputs": [
    {
     "data": {
      "text/plain": [
       "(74682, 4)"
      ]
     },
     "execution_count": 4,
     "metadata": {},
     "output_type": "execute_result"
    }
   ],
   "source": [
    "data.shape"
   ]
  },
  {
   "cell_type": "code",
   "execution_count": 5,
   "id": "b7437bcc",
   "metadata": {},
   "outputs": [],
   "source": [
    "data.drop(['id'],axis=1,inplace=True)"
   ]
  },
  {
   "cell_type": "code",
   "execution_count": 6,
   "id": "9f1e76ab",
   "metadata": {},
   "outputs": [
    {
     "data": {
      "text/plain": [
       "source         0\n",
       "sentiment      0\n",
       "tweet        686\n",
       "dtype: int64"
      ]
     },
     "execution_count": 6,
     "metadata": {},
     "output_type": "execute_result"
    }
   ],
   "source": [
    "data.isnull().sum()"
   ]
  },
  {
   "cell_type": "code",
   "execution_count": 7,
   "id": "abb739ce",
   "metadata": {},
   "outputs": [
    {
     "data": {
      "text/html": [
       "<div>\n",
       "<style scoped>\n",
       "    .dataframe tbody tr th:only-of-type {\n",
       "        vertical-align: middle;\n",
       "    }\n",
       "\n",
       "    .dataframe tbody tr th {\n",
       "        vertical-align: top;\n",
       "    }\n",
       "\n",
       "    .dataframe thead th {\n",
       "        text-align: right;\n",
       "    }\n",
       "</style>\n",
       "<table border=\"1\" class=\"dataframe\">\n",
       "  <thead>\n",
       "    <tr style=\"text-align: right;\">\n",
       "      <th></th>\n",
       "      <th>source</th>\n",
       "      <th>sentiment</th>\n",
       "      <th>tweet</th>\n",
       "    </tr>\n",
       "  </thead>\n",
       "  <tbody>\n",
       "    <tr>\n",
       "      <th>0</th>\n",
       "      <td>Borderlands</td>\n",
       "      <td>Positive</td>\n",
       "      <td>im getting on borderlands and i will murder yo...</td>\n",
       "    </tr>\n",
       "    <tr>\n",
       "      <th>1</th>\n",
       "      <td>Borderlands</td>\n",
       "      <td>Positive</td>\n",
       "      <td>I am coming to the borders and I will kill you...</td>\n",
       "    </tr>\n",
       "    <tr>\n",
       "      <th>2</th>\n",
       "      <td>Borderlands</td>\n",
       "      <td>Positive</td>\n",
       "      <td>im getting on borderlands and i will kill you ...</td>\n",
       "    </tr>\n",
       "    <tr>\n",
       "      <th>3</th>\n",
       "      <td>Borderlands</td>\n",
       "      <td>Positive</td>\n",
       "      <td>im coming on borderlands and i will murder you...</td>\n",
       "    </tr>\n",
       "    <tr>\n",
       "      <th>4</th>\n",
       "      <td>Borderlands</td>\n",
       "      <td>Positive</td>\n",
       "      <td>im getting on borderlands 2 and i will murder ...</td>\n",
       "    </tr>\n",
       "    <tr>\n",
       "      <th>...</th>\n",
       "      <td>...</td>\n",
       "      <td>...</td>\n",
       "      <td>...</td>\n",
       "    </tr>\n",
       "    <tr>\n",
       "      <th>74677</th>\n",
       "      <td>Nvidia</td>\n",
       "      <td>Positive</td>\n",
       "      <td>Just realized that the Windows partition of my...</td>\n",
       "    </tr>\n",
       "    <tr>\n",
       "      <th>74678</th>\n",
       "      <td>Nvidia</td>\n",
       "      <td>Positive</td>\n",
       "      <td>Just realized that my Mac window partition is ...</td>\n",
       "    </tr>\n",
       "    <tr>\n",
       "      <th>74679</th>\n",
       "      <td>Nvidia</td>\n",
       "      <td>Positive</td>\n",
       "      <td>Just realized the windows partition of my Mac ...</td>\n",
       "    </tr>\n",
       "    <tr>\n",
       "      <th>74680</th>\n",
       "      <td>Nvidia</td>\n",
       "      <td>Positive</td>\n",
       "      <td>Just realized between the windows partition of...</td>\n",
       "    </tr>\n",
       "    <tr>\n",
       "      <th>74681</th>\n",
       "      <td>Nvidia</td>\n",
       "      <td>Positive</td>\n",
       "      <td>Just like the windows partition of my Mac is l...</td>\n",
       "    </tr>\n",
       "  </tbody>\n",
       "</table>\n",
       "<p>73996 rows × 3 columns</p>\n",
       "</div>"
      ],
      "text/plain": [
       "            source sentiment  \\\n",
       "0      Borderlands  Positive   \n",
       "1      Borderlands  Positive   \n",
       "2      Borderlands  Positive   \n",
       "3      Borderlands  Positive   \n",
       "4      Borderlands  Positive   \n",
       "...            ...       ...   \n",
       "74677       Nvidia  Positive   \n",
       "74678       Nvidia  Positive   \n",
       "74679       Nvidia  Positive   \n",
       "74680       Nvidia  Positive   \n",
       "74681       Nvidia  Positive   \n",
       "\n",
       "                                                   tweet  \n",
       "0      im getting on borderlands and i will murder yo...  \n",
       "1      I am coming to the borders and I will kill you...  \n",
       "2      im getting on borderlands and i will kill you ...  \n",
       "3      im coming on borderlands and i will murder you...  \n",
       "4      im getting on borderlands 2 and i will murder ...  \n",
       "...                                                  ...  \n",
       "74677  Just realized that the Windows partition of my...  \n",
       "74678  Just realized that my Mac window partition is ...  \n",
       "74679  Just realized the windows partition of my Mac ...  \n",
       "74680  Just realized between the windows partition of...  \n",
       "74681  Just like the windows partition of my Mac is l...  \n",
       "\n",
       "[73996 rows x 3 columns]"
      ]
     },
     "execution_count": 7,
     "metadata": {},
     "output_type": "execute_result"
    }
   ],
   "source": [
    "data.dropna()"
   ]
  },
  {
   "cell_type": "code",
   "execution_count": 16,
   "id": "374dfebb",
   "metadata": {},
   "outputs": [
    {
     "data": {
      "text/plain": [
       "Negative      22542\n",
       "Positive      20832\n",
       "Neutral       18318\n",
       "Irrelevant    12990\n",
       "Name: sentiment, dtype: int64"
      ]
     },
     "execution_count": 16,
     "metadata": {},
     "output_type": "execute_result"
    }
   ],
   "source": [
    "data.sentiment.value_counts()"
   ]
  },
  {
   "cell_type": "code",
   "execution_count": 17,
   "id": "8058726b",
   "metadata": {},
   "outputs": [],
   "source": [
    "sentiment_counts = pd.DataFrame(data.sentiment.value_counts())"
   ]
  },
  {
   "cell_type": "code",
   "execution_count": 18,
   "id": "0f428680",
   "metadata": {},
   "outputs": [
    {
     "data": {
      "text/html": [
       "<div>\n",
       "<style scoped>\n",
       "    .dataframe tbody tr th:only-of-type {\n",
       "        vertical-align: middle;\n",
       "    }\n",
       "\n",
       "    .dataframe tbody tr th {\n",
       "        vertical-align: top;\n",
       "    }\n",
       "\n",
       "    .dataframe thead th {\n",
       "        text-align: right;\n",
       "    }\n",
       "</style>\n",
       "<table border=\"1\" class=\"dataframe\">\n",
       "  <thead>\n",
       "    <tr style=\"text-align: right;\">\n",
       "      <th></th>\n",
       "      <th>sentiment</th>\n",
       "    </tr>\n",
       "  </thead>\n",
       "  <tbody>\n",
       "    <tr>\n",
       "      <th>Negative</th>\n",
       "      <td>22542</td>\n",
       "    </tr>\n",
       "    <tr>\n",
       "      <th>Positive</th>\n",
       "      <td>20832</td>\n",
       "    </tr>\n",
       "    <tr>\n",
       "      <th>Neutral</th>\n",
       "      <td>18318</td>\n",
       "    </tr>\n",
       "    <tr>\n",
       "      <th>Irrelevant</th>\n",
       "      <td>12990</td>\n",
       "    </tr>\n",
       "  </tbody>\n",
       "</table>\n",
       "</div>"
      ],
      "text/plain": [
       "            sentiment\n",
       "Negative        22542\n",
       "Positive        20832\n",
       "Neutral         18318\n",
       "Irrelevant      12990"
      ]
     },
     "execution_count": 18,
     "metadata": {},
     "output_type": "execute_result"
    }
   ],
   "source": [
    "sentiment_counts"
   ]
  },
  {
   "cell_type": "markdown",
   "id": "c00117f8",
   "metadata": {},
   "source": [
    "# Preprocessing by removing unnecessary characters"
   ]
  },
  {
   "cell_type": "code",
   "execution_count": 37,
   "id": "ac4445d6",
   "metadata": {},
   "outputs": [],
   "source": [
    "import re\n",
    "def clean_text(tweet):\n",
    "    tweet = re.sub(r'http\\S+', '', str(tweet))\n",
    "    tweet = re.sub(r'@[A-Za-z0-9_]+|#[A-Za-z0-9_]+', '', str(tweet))\n",
    "    tweet = re.sub(r'[^A-Za-z\\s]', '', str(tweet))\n",
    "    tweet = re.sub(r'\\bRT\\b', '', str(tweet))\n",
    "    return tweet.lower()"
   ]
  },
  {
   "cell_type": "code",
   "execution_count": 38,
   "id": "f6695d4c",
   "metadata": {},
   "outputs": [
    {
     "data": {
      "text/html": [
       "<div>\n",
       "<style scoped>\n",
       "    .dataframe tbody tr th:only-of-type {\n",
       "        vertical-align: middle;\n",
       "    }\n",
       "\n",
       "    .dataframe tbody tr th {\n",
       "        vertical-align: top;\n",
       "    }\n",
       "\n",
       "    .dataframe thead th {\n",
       "        text-align: right;\n",
       "    }\n",
       "</style>\n",
       "<table border=\"1\" class=\"dataframe\">\n",
       "  <thead>\n",
       "    <tr style=\"text-align: right;\">\n",
       "      <th></th>\n",
       "      <th>source</th>\n",
       "      <th>sentiment</th>\n",
       "      <th>tweet</th>\n",
       "    </tr>\n",
       "  </thead>\n",
       "  <tbody>\n",
       "    <tr>\n",
       "      <th>0</th>\n",
       "      <td>Borderlands</td>\n",
       "      <td>Positive</td>\n",
       "      <td>im getting on borderlands and i will murder yo...</td>\n",
       "    </tr>\n",
       "    <tr>\n",
       "      <th>1</th>\n",
       "      <td>Borderlands</td>\n",
       "      <td>Positive</td>\n",
       "      <td>i am coming to the borders and i will kill you...</td>\n",
       "    </tr>\n",
       "    <tr>\n",
       "      <th>2</th>\n",
       "      <td>Borderlands</td>\n",
       "      <td>Positive</td>\n",
       "      <td>im getting on borderlands and i will kill you all</td>\n",
       "    </tr>\n",
       "    <tr>\n",
       "      <th>3</th>\n",
       "      <td>Borderlands</td>\n",
       "      <td>Positive</td>\n",
       "      <td>im coming on borderlands and i will murder you...</td>\n",
       "    </tr>\n",
       "    <tr>\n",
       "      <th>4</th>\n",
       "      <td>Borderlands</td>\n",
       "      <td>Positive</td>\n",
       "      <td>im getting on borderlands  and i will murder y...</td>\n",
       "    </tr>\n",
       "  </tbody>\n",
       "</table>\n",
       "</div>"
      ],
      "text/plain": [
       "        source sentiment                                              tweet\n",
       "0  Borderlands  Positive  im getting on borderlands and i will murder yo...\n",
       "1  Borderlands  Positive  i am coming to the borders and i will kill you...\n",
       "2  Borderlands  Positive  im getting on borderlands and i will kill you all\n",
       "3  Borderlands  Positive  im coming on borderlands and i will murder you...\n",
       "4  Borderlands  Positive  im getting on borderlands  and i will murder y..."
      ]
     },
     "execution_count": 38,
     "metadata": {},
     "output_type": "execute_result"
    }
   ],
   "source": [
    "data['tweet'] = data['tweet'].apply(clean_text)\n",
    "data.head()"
   ]
  },
  {
   "cell_type": "markdown",
   "id": "09d34d17",
   "metadata": {},
   "source": [
    "# Labelling the output"
   ]
  },
  {
   "cell_type": "code",
   "execution_count": 39,
   "id": "d15d5902",
   "metadata": {},
   "outputs": [],
   "source": [
    "from sklearn.preprocessing import LabelEncoder\n",
    "encoder = LabelEncoder()\n",
    "data.sentiment = encoder.fit_transform(data.sentiment)"
   ]
  },
  {
   "cell_type": "code",
   "execution_count": 40,
   "id": "572e8b7f",
   "metadata": {},
   "outputs": [
    {
     "data": {
      "text/plain": [
       "array(['Irrelevant', 'Negative', 'Neutral', 'Positive'], dtype=object)"
      ]
     },
     "execution_count": 40,
     "metadata": {},
     "output_type": "execute_result"
    }
   ],
   "source": [
    "encoder.classes_"
   ]
  },
  {
   "cell_type": "code",
   "execution_count": 42,
   "id": "e4f320a1",
   "metadata": {},
   "outputs": [],
   "source": [
    "X = data['tweet']\n",
    "y = data['sentiment']"
   ]
  },
  {
   "cell_type": "markdown",
   "id": "42d888ff",
   "metadata": {},
   "source": [
    "# Vectorization and Training the model"
   ]
  },
  {
   "cell_type": "code",
   "execution_count": 44,
   "id": "38fdeb2d",
   "metadata": {},
   "outputs": [],
   "source": [
    "from sklearn.model_selection import train_test_split \n",
    "x_train, x_test, y_train,y_test = train_test_split(X, y, random_state=42, test_size=0.2, stratify=y)"
   ]
  },
  {
   "cell_type": "code",
   "execution_count": 45,
   "id": "ba41fe1c",
   "metadata": {},
   "outputs": [],
   "source": [
    "from sklearn.feature_extraction.text import TfidfVectorizer\n",
    "v = TfidfVectorizer()\n",
    "X_train_normalized = v.fit_transform(x_train)\n",
    "X_test_normalized = v.transform(x_test)"
   ]
  },
  {
   "cell_type": "code",
   "execution_count": 46,
   "id": "dbc58a9c",
   "metadata": {},
   "outputs": [
    {
     "data": {
      "text/plain": [
       "RandomForestClassifier(n_estimators=60)"
      ]
     },
     "execution_count": 46,
     "metadata": {},
     "output_type": "execute_result"
    }
   ],
   "source": [
    "from sklearn.ensemble import RandomForestClassifier\n",
    "rf_clf = RandomForestClassifier(n_estimators=60)\n",
    "rf_clf.fit(X_train_normalized,y_train)"
   ]
  },
  {
   "cell_type": "code",
   "execution_count": 47,
   "id": "233e0c35",
   "metadata": {},
   "outputs": [
    {
     "name": "stdout",
     "output_type": "stream",
     "text": [
      "0.8945571399879494\n"
     ]
    }
   ],
   "source": [
    "from sklearn.metrics import accuracy_score, classification_report\n",
    "y_pred = rf_clf.predict(X_test_normalized)\n",
    "print(accuracy_score(y_test,y_pred))"
   ]
  },
  {
   "cell_type": "code",
   "execution_count": 48,
   "id": "b16dc9a8",
   "metadata": {},
   "outputs": [
    {
     "name": "stdout",
     "output_type": "stream",
     "text": [
      "              precision    recall  f1-score   support\n",
      "\n",
      "           0       0.97      0.80      0.88      2598\n",
      "           1       0.89      0.92      0.91      4509\n",
      "           2       0.86      0.90      0.88      3664\n",
      "           3       0.89      0.92      0.90      4166\n",
      "\n",
      "    accuracy                           0.89     14937\n",
      "   macro avg       0.90      0.89      0.89     14937\n",
      "weighted avg       0.90      0.89      0.89     14937\n",
      "\n"
     ]
    }
   ],
   "source": [
    "print(classification_report(y_test,y_pred))"
   ]
  },
  {
   "cell_type": "markdown",
   "id": "005a0478",
   "metadata": {},
   "source": [
    "# Validation dataset "
   ]
  },
  {
   "cell_type": "code",
   "execution_count": 49,
   "id": "0428bc72",
   "metadata": {},
   "outputs": [
    {
     "data": {
      "text/html": [
       "<div>\n",
       "<style scoped>\n",
       "    .dataframe tbody tr th:only-of-type {\n",
       "        vertical-align: middle;\n",
       "    }\n",
       "\n",
       "    .dataframe tbody tr th {\n",
       "        vertical-align: top;\n",
       "    }\n",
       "\n",
       "    .dataframe thead th {\n",
       "        text-align: right;\n",
       "    }\n",
       "</style>\n",
       "<table border=\"1\" class=\"dataframe\">\n",
       "  <thead>\n",
       "    <tr style=\"text-align: right;\">\n",
       "      <th></th>\n",
       "      <th>id</th>\n",
       "      <th>source</th>\n",
       "      <th>sentiment</th>\n",
       "      <th>tweet</th>\n",
       "    </tr>\n",
       "  </thead>\n",
       "  <tbody>\n",
       "    <tr>\n",
       "      <th>0</th>\n",
       "      <td>3364</td>\n",
       "      <td>Facebook</td>\n",
       "      <td>Irrelevant</td>\n",
       "      <td>I mentioned on Facebook that I was struggling ...</td>\n",
       "    </tr>\n",
       "    <tr>\n",
       "      <th>1</th>\n",
       "      <td>352</td>\n",
       "      <td>Amazon</td>\n",
       "      <td>Neutral</td>\n",
       "      <td>BBC News - Amazon boss Jeff Bezos rejects clai...</td>\n",
       "    </tr>\n",
       "    <tr>\n",
       "      <th>2</th>\n",
       "      <td>8312</td>\n",
       "      <td>Microsoft</td>\n",
       "      <td>Negative</td>\n",
       "      <td>@Microsoft Why do I pay for WORD when it funct...</td>\n",
       "    </tr>\n",
       "    <tr>\n",
       "      <th>3</th>\n",
       "      <td>4371</td>\n",
       "      <td>CS-GO</td>\n",
       "      <td>Negative</td>\n",
       "      <td>CSGO matchmaking is so full of closet hacking,...</td>\n",
       "    </tr>\n",
       "    <tr>\n",
       "      <th>4</th>\n",
       "      <td>4433</td>\n",
       "      <td>Google</td>\n",
       "      <td>Neutral</td>\n",
       "      <td>Now the President is slapping Americans in the...</td>\n",
       "    </tr>\n",
       "  </tbody>\n",
       "</table>\n",
       "</div>"
      ],
      "text/plain": [
       "     id     source   sentiment  \\\n",
       "0  3364   Facebook  Irrelevant   \n",
       "1   352     Amazon     Neutral   \n",
       "2  8312  Microsoft    Negative   \n",
       "3  4371      CS-GO    Negative   \n",
       "4  4433     Google     Neutral   \n",
       "\n",
       "                                               tweet  \n",
       "0  I mentioned on Facebook that I was struggling ...  \n",
       "1  BBC News - Amazon boss Jeff Bezos rejects clai...  \n",
       "2  @Microsoft Why do I pay for WORD when it funct...  \n",
       "3  CSGO matchmaking is so full of closet hacking,...  \n",
       "4  Now the President is slapping Americans in the...  "
      ]
     },
     "execution_count": 49,
     "metadata": {},
     "output_type": "execute_result"
    }
   ],
   "source": [
    "test = pd.read_csv(\"/Users/mahakkaurchhabra/Downloads/twitter_sentiment/twitter_validation.csv\",names = ['id','source','sentiment','tweet'])\n",
    "test.head()"
   ]
  },
  {
   "cell_type": "code",
   "execution_count": 56,
   "id": "2967123b",
   "metadata": {},
   "outputs": [],
   "source": [
    "y_test = test['sentiment'].loc[3]\n",
    "x = test['tweet'].loc[3]"
   ]
  },
  {
   "cell_type": "code",
   "execution_count": 57,
   "id": "894a0a74",
   "metadata": {},
   "outputs": [],
   "source": [
    "x = clean_text(x)"
   ]
  },
  {
   "cell_type": "code",
   "execution_count": 58,
   "id": "547d4e01",
   "metadata": {},
   "outputs": [
    {
     "data": {
      "text/plain": [
       "'csgo matchmaking is so full of closet hacking its a truly awful game'"
      ]
     },
     "execution_count": 58,
     "metadata": {},
     "output_type": "execute_result"
    }
   ],
   "source": [
    "x"
   ]
  },
  {
   "cell_type": "code",
   "execution_count": 59,
   "id": "1101acf2",
   "metadata": {},
   "outputs": [],
   "source": [
    "x_testing = v.transform([x])"
   ]
  },
  {
   "cell_type": "code",
   "execution_count": 60,
   "id": "801110c2",
   "metadata": {},
   "outputs": [
    {
     "data": {
      "text/plain": [
       "(1, 34851)"
      ]
     },
     "execution_count": 60,
     "metadata": {},
     "output_type": "execute_result"
    }
   ],
   "source": [
    "x_testing.shape"
   ]
  },
  {
   "cell_type": "code",
   "execution_count": 62,
   "id": "619bef4f",
   "metadata": {},
   "outputs": [
    {
     "name": "stdout",
     "output_type": "stream",
     "text": [
      "the predicted output is [1] and it corresponds to ['Negative'] and the true value is Negative\n"
     ]
    }
   ],
   "source": [
    "y_pred = rf_clf.predict(x_testing)\n",
    "print(f\"the predicted output is {y_pred} and it corresponds to {encoder.classes_[y_pred]} and the true value is {y_test}\")"
   ]
  },
  {
   "cell_type": "code",
   "execution_count": 63,
   "id": "fa27d0dc",
   "metadata": {},
   "outputs": [
    {
     "name": "stdout",
     "output_type": "stream",
     "text": [
      "Negative\n"
     ]
    }
   ],
   "source": [
    "print(y_test)"
   ]
  },
  {
   "cell_type": "markdown",
   "id": "36796068",
   "metadata": {},
   "source": [
    "# Creating a function for new input and checking its classification result "
   ]
  },
  {
   "cell_type": "code",
   "execution_count": 66,
   "id": "697bacf5",
   "metadata": {},
   "outputs": [],
   "source": [
    "def unseen_input(text):\n",
    "    text = clean_text(text)\n",
    "    text = v.transform([text])\n",
    "    y_pred = rf_clf.predict(text)\n",
    "    print(f\"the predicted output is {encoder.classes_[y_pred]}\")\n"
   ]
  },
  {
   "cell_type": "code",
   "execution_count": 67,
   "id": "350599b6",
   "metadata": {},
   "outputs": [
    {
     "name": "stdout",
     "output_type": "stream",
     "text": [
      "the predicted output is ['Neutral']\n"
     ]
    }
   ],
   "source": [
    "unseen_input(\"Hard Working Individuals!\")"
   ]
  },
  {
   "cell_type": "code",
   "execution_count": 82,
   "id": "c22ef3bc",
   "metadata": {
    "scrolled": true
   },
   "outputs": [
    {
     "name": "stdout",
     "output_type": "stream",
     "text": [
      "the predicted output is ['Neutral']\n"
     ]
    }
   ],
   "source": [
    "unseen_input(\"suicide.\")"
   ]
  },
  {
   "cell_type": "code",
   "execution_count": 69,
   "id": "e64cbcfc",
   "metadata": {},
   "outputs": [
    {
     "name": "stdout",
     "output_type": "stream",
     "text": [
      "the predicted output is ['Neutral']\n"
     ]
    }
   ],
   "source": [
    "unseen_input(\"a dear friend of mine committed suicide with a shotgun two years ago\")"
   ]
  },
  {
   "cell_type": "code",
   "execution_count": 71,
   "id": "e89b4129",
   "metadata": {},
   "outputs": [
    {
     "name": "stdout",
     "output_type": "stream",
     "text": [
      "the predicted output is ['Neutral']\n"
     ]
    }
   ],
   "source": [
    "unseen_input(\"Sensex plunges 790 points\")"
   ]
  },
  {
   "cell_type": "code",
   "execution_count": 72,
   "id": "cfd14c7c",
   "metadata": {},
   "outputs": [
    {
     "name": "stdout",
     "output_type": "stream",
     "text": [
      "the predicted output is ['Negative']\n"
     ]
    }
   ],
   "source": [
    "unseen_input(\"die\")"
   ]
  },
  {
   "cell_type": "code",
   "execution_count": 73,
   "id": "1901cf1f",
   "metadata": {},
   "outputs": [
    {
     "name": "stdout",
     "output_type": "stream",
     "text": [
      "the predicted output is ['Neutral']\n"
     ]
    }
   ],
   "source": [
    "unseen_input(\"she won a lottery !!!\")"
   ]
  },
  {
   "cell_type": "markdown",
   "id": "f51a8068",
   "metadata": {},
   "source": [
    "# Saving the trained model "
   ]
  },
  {
   "cell_type": "code",
   "execution_count": 74,
   "id": "9d8c550a",
   "metadata": {},
   "outputs": [],
   "source": [
    "import pickle"
   ]
  },
  {
   "cell_type": "code",
   "execution_count": 75,
   "id": "56946c8e",
   "metadata": {},
   "outputs": [],
   "source": [
    "filename = \"trained_model.sav\"\n",
    "# or .pkl"
   ]
  },
  {
   "cell_type": "code",
   "execution_count": 76,
   "id": "973a6d1f",
   "metadata": {},
   "outputs": [],
   "source": [
    "pickle.dump(rf_clf,open(filename,'wb'))"
   ]
  },
  {
   "cell_type": "markdown",
   "id": "a61448e7",
   "metadata": {},
   "source": [
    "# Using saved model for future Predictions  "
   ]
  },
  {
   "cell_type": "code",
   "execution_count": 77,
   "id": "3e0bf761",
   "metadata": {},
   "outputs": [],
   "source": [
    "#loading model\n",
    "loaded_model = pickle.load(open('trained_model.sav','rb'))"
   ]
  },
  {
   "cell_type": "code",
   "execution_count": 78,
   "id": "a63a59b9",
   "metadata": {},
   "outputs": [
    {
     "name": "stdout",
     "output_type": "stream",
     "text": [
      "Neutral\n"
     ]
    }
   ],
   "source": [
    "X_new = test['tweet'].loc[200]\n",
    "y_test = test['sentiment'].loc[200]\n",
    "print(y_test)"
   ]
  },
  {
   "cell_type": "code",
   "execution_count": 79,
   "id": "7efce3ce",
   "metadata": {},
   "outputs": [
    {
     "name": "stdout",
     "output_type": "stream",
     "text": [
      "id                                                        6889\n",
      "source                                         johnson&johnson\n",
      "sentiment                                              Neutral\n",
      "tweet        Johnson & Johnson pauses COVID-19 vaccine tria...\n",
      "Name: 200, dtype: object\n"
     ]
    }
   ],
   "source": [
    "print(test.loc[200])"
   ]
  },
  {
   "cell_type": "code",
   "execution_count": 80,
   "id": "6832bb05",
   "metadata": {},
   "outputs": [],
   "source": [
    "def new_input(text):\n",
    "    text = clean_text(text)\n",
    "    text = v.transform([text])\n",
    "    y_pred = loaded_model.predict(text)\n",
    "    print(f\"the predicted output is {encoder.classes_[y_pred]}\")"
   ]
  },
  {
   "cell_type": "code",
   "execution_count": 83,
   "id": "f3e01c79",
   "metadata": {},
   "outputs": [
    {
     "name": "stdout",
     "output_type": "stream",
     "text": [
      "the predicted output is ['Neutral']\n"
     ]
    }
   ],
   "source": [
    "new_input(X_new)"
   ]
  },
  {
   "cell_type": "code",
   "execution_count": null,
   "id": "269fe389",
   "metadata": {},
   "outputs": [],
   "source": [
    "# https://youtu.be/4YGkfAd2iXM?si=i-okjsETDCSIDEuI\n",
    "# https://www.kaggle.com/code/ranahafezz/twitter-sentiment-analysis-nlp\n",
    "# https://www.kaggle.com/code/abdallahwagih/twitter-sentiment-analysis"
   ]
  }
 ],
 "metadata": {
  "kernelspec": {
   "display_name": "Python 3 (ipykernel)",
   "language": "python",
   "name": "python3"
  },
  "language_info": {
   "codemirror_mode": {
    "name": "ipython",
    "version": 3
   },
   "file_extension": ".py",
   "mimetype": "text/x-python",
   "name": "python",
   "nbconvert_exporter": "python",
   "pygments_lexer": "ipython3",
   "version": "3.9.12"
  }
 },
 "nbformat": 4,
 "nbformat_minor": 5
}
